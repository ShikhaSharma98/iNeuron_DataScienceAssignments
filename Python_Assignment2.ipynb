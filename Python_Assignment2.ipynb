{
 "cells": [
  {
   "cell_type": "raw",
   "id": "035a54f1",
   "metadata": {},
   "source": [
    "Q1 Create the below pattern using nested for loop in Python.\n",
    "*\n",
    "* *\n",
    "* * *\n",
    "* * * *\n",
    "* * * * *\n",
    "* * * *\n",
    "* * *\n",
    "* *\n",
    "*"
   ]
  },
  {
   "cell_type": "code",
   "execution_count": 1,
   "id": "09e2e6db",
   "metadata": {},
   "outputs": [
    {
     "name": "stdout",
     "output_type": "stream",
     "text": [
      "Enter no of rows5\n",
      "*\n",
      "**\n",
      "***\n",
      "****\n",
      "*****\n",
      "****\n",
      "***\n",
      "**\n",
      "*\n"
     ]
    }
   ],
   "source": [
    "n=int(input(\"Enter no of rows\"))\n",
    "for i in range(0,n):\n",
    "    for j in range (0,i+1):\n",
    "        print(\"*\",end=\"\")\n",
    "    print(\"\") \n",
    "for i in range(1, n):\n",
    "    for j in range(0, n-i):\n",
    "        print(\"*\", end=\"\")\n",
    "    print(\"\")   "
   ]
  },
  {
   "cell_type": "markdown",
   "id": "e5c37207",
   "metadata": {},
   "source": [
    "Q2. Write a Python program to reverse a word after accepting the input from the user."
   ]
  },
  {
   "cell_type": "code",
   "execution_count": 2,
   "id": "99e68cd5",
   "metadata": {},
   "outputs": [
    {
     "name": "stdout",
     "output_type": "stream",
     "text": [
      "Enter String: ineuron\n",
      "Reversed String is: norueni\n"
     ]
    }
   ],
   "source": [
    "string=input(\"Enter String: \")\n",
    "print(\"Reversed String is:\", string[::-1])"
   ]
  },
  {
   "cell_type": "code",
   "execution_count": null,
   "id": "a45d3232",
   "metadata": {},
   "outputs": [],
   "source": []
  },
  {
   "cell_type": "code",
   "execution_count": null,
   "id": "26eab87b",
   "metadata": {},
   "outputs": [],
   "source": []
  },
  {
   "cell_type": "code",
   "execution_count": null,
   "id": "87ad1582",
   "metadata": {},
   "outputs": [],
   "source": []
  }
 ],
 "metadata": {
  "kernelspec": {
   "display_name": "Python 3 (ipykernel)",
   "language": "python",
   "name": "python3"
  },
  "language_info": {
   "codemirror_mode": {
    "name": "ipython",
    "version": 3
   },
   "file_extension": ".py",
   "mimetype": "text/x-python",
   "name": "python",
   "nbconvert_exporter": "python",
   "pygments_lexer": "ipython3",
   "version": "3.9.7"
  }
 },
 "nbformat": 4,
 "nbformat_minor": 5
}
